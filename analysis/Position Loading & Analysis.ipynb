{
 "cells": [
  {
   "cell_type": "code",
   "execution_count": null,
   "id": "7ae98286",
   "metadata": {},
   "outputs": [],
   "source": [
    "# Set system path to allow imports\n",
    "import sys\n",
    "import os\n",
    "sys.path.insert(1, os.path.join(sys.path[0], '..'))\n",
    "\n",
    "from ephys import ephys\n",
    "from session_utils import find_all_sessions\n",
    "from position_analysis import *\n",
    "\n",
    "\n",
    "# Load all session names and paths as dict\n",
    "session_list = find_all_sessions(sheet_path = 'https://docs.google.com/spreadsheets/d/1_Xs5i-rHNTywV-WuQ8-TZliSjTxQCCqGWOD2AL_LIq0/edit#gid=0',\n",
    "                                 data_path = '/home/isabella/Documents/isabella/jake/recording_data',\n",
    "                                 sorting_suffix = 'sorting_ks2_custom')\n",
    "\n",
    "\n",
    "# Constants\n",
    "max_speed = 5  # m/s\n",
    "smoothing_window_size = 3  # Choose an appropriate window size for smoothing"
   ]
  },
  {
   "cell_type": "code",
   "execution_count": null,
   "id": "d7c13740",
   "metadata": {
    "scrolled": true
   },
   "outputs": [],
   "source": [
    "processed_posdata = []\n",
    "\n",
    "# Loop through sessions\n",
    "trials_loaded = 0\n",
    "for session, path in session_list.items():\n",
    "    \n",
    "    obj = ephys(recording_type = 'nexus', path = path)\n",
    "    \n",
    "    # Load position for t-maze trials\n",
    "    for trial_iterator, trial in enumerate(obj.trial_list):\n",
    "        if 't-maze' in trial:\n",
    "            obj.load_pos(trial_iterator, reload_flag = False) #Needs reloading each time for now\n",
    "            trials_loaded +=1\n",
    "            \n",
    "            # Extract XY position data and calculate performance using funcs from position_analysis.py\n",
    "            xy_pos = obj.pos_data[trial_iterator]['xy_position']\n",
    "            performance = calculate_choices(xy_pos, assign_sectors(xy_pos.T, pos_header = obj.pos_data[trial_iterator]['header']))\n",
    "            \n",
    "            # Add age and animal ID\n",
    "            obj.pos_data[trial_iterator]['age'] = obj.age\n",
    "            obj.pos_data[trial_iterator]['animal'] = obj.animal\n",
    "            \n",
    "            # Add processed position data to array\n",
    "            processed_posdata.append({'xy_position': xy_pos,\n",
    "                                      'age': obj.age,\n",
    "                                      'animal': obj.animal,\n",
    "                                      'performance': performance})\n",
    "                                      \n",
    "\n",
    "            \n",
    "print(f'{trials_loaded} t-maze trials loaded')\n",
    "\n",
    "# Convert processed_posdata to DataFrame\n",
    "data_df = pd.DataFrame(processed_posdata)\n",
    "\n",
    "#Extract performance metrics for plotting\n",
    "data_df['total_choices'] = data_df['performance'].apply(lambda x: x['total_choices'])\n",
    "data_df['p_correct'] = data_df['performance'].apply(lambda x: x['p_correct'])"
   ]
  },
  {
   "cell_type": "markdown",
   "id": "b5321bc6",
   "metadata": {},
   "source": [
    "### Plotting:\n"
   ]
  },
  {
   "cell_type": "code",
   "execution_count": null,
   "id": "6465742c",
   "metadata": {},
   "outputs": [],
   "source": [
    "import matplotlib.pyplot as plt\n",
    "import seaborn as sns\n",
    "from scipy.stats import pearsonr\n",
    "\n",
    "# Remove NaN values\n",
    "df_clean = data_df.dropna(subset=['age', 'total_choices', 'animal', 'p_correct'])\n",
    "df_clean['age'] = df_clean['age'].astype(int)\n",
    "\n",
    "\n",
    "# Plot Total Choices vs Age\n",
    "\n",
    "# Calculate the correlation coefficient\n",
    "corr, p_val = pearsonr(df_clean['age'], df_clean['total_choices'])\n",
    "\n",
    "plt.figure(figsize=(10, 6))\n",
    "sns.scatterplot(data=df_clean, x='age', y='total_choices', hue='animal', palette=\"deep\", s = 100)\n",
    "\n",
    "# If correlation is significant, add a best fit line\n",
    "if p_val < 0.05:\n",
    "    sns.regplot(data=df_clean, x='age', y='total_choices', scatter=False, color='black')\n",
    "\n",
    "plt.xlabel('Age (Days)', fontsize = 15)\n",
    "plt.ylabel('Total Choices', fontsize = 15)\n",
    "plt.title(f\"Total Choices vs Age (Pearson r = {corr:.2f}, p = {p_val:.3f})\", fontsize = 20)\n",
    "plt.tight_layout()\n",
    "plt.savefig('/home/isabella/Documents/isabella/jake/ephys_analysis/figures/t-maze_performance/age_vs_total_choices.png')\n",
    "plt.show()\n"
   ]
  },
  {
   "cell_type": "code",
   "execution_count": null,
   "id": "b596d571",
   "metadata": {},
   "outputs": [],
   "source": [
    "# Plot Age vs Proportion of Correct Choices\n",
    "\n",
    "# Create a scatter plot\n",
    "plt.figure(figsize=(10, 6))\n",
    "sns.scatterplot(data=df_clean, x='age', y='p_correct', hue='animal', palette=\"deep\", s = 100)\n",
    "\n",
    "# Calculate the correlation coefficient\n",
    "corr, p_val = pearsonr(df_clean['age'], df_clean['p_correct'])\n",
    "\n",
    "# If correlation is significant, add a best fit line\n",
    "if p_val < 0.05:\n",
    "    sns.regplot(data=df_clean, x='age', y='p_correct', scatter=False, color='black')\n",
    "\n",
    "plt.xlabel('Age (Days)', fontsize = 15)\n",
    "plt.ylabel('Proportion Correct Choices', fontsize = 15)\n",
    "plt.title(f\"Performance vs Age (Pearson r = {corr:.2f}, p = {p_val:.5f})\", fontsize = 20)\n",
    "plt.tight_layout()\n",
    "plt.savefig('/home/isabella/Documents/isabella/jake/ephys_analysis/figures/t-maze_performance/age_vs_p_correct.png')\n",
    "plt.show()\n"
   ]
  },
  {
   "cell_type": "code",
   "execution_count": null,
   "id": "32da9839",
   "metadata": {},
   "outputs": [],
   "source": []
  },
  {
   "cell_type": "code",
   "execution_count": null,
   "id": "b50a7c65",
   "metadata": {},
   "outputs": [],
   "source": [
    "\n",
    "\n",
    "X = xy_pos.iloc[0,:]\n",
    "Y = xy_pos.iloc[1,:]\n",
    "angles = direction_disp  # Random angles in radians\n",
    "\n",
    "# Create masks for valid (non-nan) X, Y, angles, and speed data\n",
    "mask = ~np.isnan(X) & ~np.isnan(Y) & ~np.isnan(angles) & ~np.isnan(speed)\n",
    "\n",
    "# Compute arrow directions, scaled by speed\n",
    "U = speed[mask] * np.cos(angles[mask])\n",
    "V = speed[mask] * np.sin(angles[mask])\n",
    "\n",
    "plt.figure()\n",
    "#Plot every 10th point for visibility\n",
    "plt.quiver(X[mask][::10], Y[mask][::10], U[::10], V[::10], angles='xy', scale_units='xy', scale=20)\n",
    "plt.show()"
   ]
  },
  {
   "cell_type": "code",
   "execution_count": null,
   "id": "b1d1fce6",
   "metadata": {},
   "outputs": [],
   "source": [
    "# Define the reward and start sectors\n",
    "reward_sectors = [1, 9]\n",
    "start_sector = 8\n",
    "\n",
    "sector_numbers = assign_sectors(xy_pos.T)\n",
    "plt.scatter(xy_pos.iloc[0,:], xy_pos.iloc[1,:], c = sector_numbers)\n",
    "plt.colorbar()\n",
    "plt.show()"
   ]
  },
  {
   "cell_type": "code",
   "execution_count": null,
   "id": "0ddc3e94-638f-4904-bd2c-4d968d7ebfcc",
   "metadata": {},
   "outputs": [],
   "source": []
  }
 ],
 "metadata": {
  "kernelspec": {
   "display_name": "env_37",
   "language": "python",
   "name": "env_37"
  },
  "language_info": {
   "codemirror_mode": {
    "name": "ipython",
    "version": 3
   },
   "file_extension": ".py",
   "mimetype": "text/x-python",
   "name": "python",
   "nbconvert_exporter": "python",
   "pygments_lexer": "ipython3",
   "version": "3.7.16"
  }
 },
 "nbformat": 4,
 "nbformat_minor": 5
}
