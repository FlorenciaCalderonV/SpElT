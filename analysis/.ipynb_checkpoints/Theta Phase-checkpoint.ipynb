{
 "cells": [
  {
   "cell_type": "code",
   "execution_count": 3,
   "id": "eda3acab",
   "metadata": {},
   "outputs": [
    {
     "name": "stdout",
     "output_type": "stream",
     "text": [
      "Loading set file: /home/isabella/Documents/isabella/jake/recording_data/r1364/2023-06-14/230614_r1364_raw_open-field_1.set\n",
      "Loading pos file: /home/isabella/Documents/isabella/jake/recording_data/r1364/2023-06-14/230614_r1364_raw_open-field_1.pos\n",
      "893 LED swaps detected and fixed\n",
      "Loading set file: /home/isabella/Documents/isabella/jake/recording_data/r1364/2023-06-14/230614_r1364_raw_t-maze_1.set\n",
      "Loading pos file: /home/isabella/Documents/isabella/jake/recording_data/r1364/2023-06-14/230614_r1364_raw_t-maze_1.pos\n",
      "147 LED swaps detected and fixed\n",
      "Loading set file: /home/isabella/Documents/isabella/jake/recording_data/r1364/2023-06-14/230614_r1364_raw_open-field_2.set\n",
      "Loading pos file: /home/isabella/Documents/isabella/jake/recording_data/r1364/2023-06-14/230614_r1364_raw_open-field_2.pos\n",
      "631 LED swaps detected and fixed\n",
      "Loading set file: /home/isabella/Documents/isabella/jake/recording_data/r1364/2023-06-14/230614_r1364_raw_t-maze_2.set\n",
      "Loading pos file: /home/isabella/Documents/isabella/jake/recording_data/r1364/2023-06-14/230614_r1364_raw_t-maze_2.pos\n",
      "95 LED swaps detected and fixed\n"
     ]
    }
   ],
   "source": [
    "from ephys import ephys\n",
    "\n",
    "def load_session(obj):\n",
    "    for i in range(len(obj.trial_list)):\n",
    "        obj.load_metadata(i)\n",
    "        obj.load_pos(i)\n",
    "    obj.load_spikes\n",
    "\n",
    "obj = ephys('r1364', '2023-06-14', 'nexus')\n",
    "load_session(obj)"
   ]
  },
  {
   "cell_type": "code",
   "execution_count": 2,
   "id": "73a9fbda",
   "metadata": {},
   "outputs": [
    {
     "data": {
      "text/plain": [
       "[0, 900.062, 1500.124, 2400.186]"
      ]
     },
     "execution_count": 2,
     "metadata": {},
     "output_type": "execute_result"
    }
   ],
   "source": [
    "import numpy as np\n",
    "\n",
    "def get_theta_phase(LFP, spike_times, sampling_rate, peakFreq, filtHalfBandWidth=3, powerThresh=5):\n",
    "    # Filter the LFP around the peakFreq\n",
    "    nyq = 0.5 * sampling_rate\n",
    "    low = (peakFreq - filtHalfBandWidth) / nyq\n",
    "    high = (peakFreq + filtHalfBandWidth) / nyq\n",
    "    taps = firwin(round(sampling_rate)+1, [low, high], pass_zero=False, window='blackman', fs=sampling_rate)\n",
    "    theta_LFP = filtfilt(taps, 1, LFP)\n",
    "\n",
    "    # Get the instantaneous phase using Hilbert transform\n",
    "    analytic_signal = hilbert(theta_LFP)\n",
    "    eegPhase = np.angle(analytic_signal)\n",
    "    eegPhase = np.mod(eegPhase, 2*np.pi)  # wrap into 0-2pi range\n",
    "\n",
    "    # Find phase transitions (i.e., cycle boundaries)\n",
    "    phaseTrans = np.diff(eegPhase) < -np.pi\n",
    "    phaseTrans = np.hstack(([True], phaseTrans, [True]))\n",
    "\n",
    "    # Remove phase slips\n",
    "    phaseSlips = np.hstack(([False], np.diff(np.unwrap(eegPhase)) < 0, [False]))\n",
    "    phaseTrans[phaseSlips] = False\n",
    "\n",
    "    # Numeric cycle index\n",
    "    cycleN = np.cumsum(phaseTrans[:-1])  # Exclude the last element to match the LFP's length\n",
    "\n",
    "    # EEG power and power per cycle\n",
    "    power = theta_LFP**2\n",
    "    powerPerCycle = np.bincount(cycleN, power) / np.bincount(cycleN)\n",
    "    \n",
    "    # Remove bad data based on power and cycle length thresholds\n",
    "    thresh = np.percentile(powerPerCycle, powerThresh)\n",
    "    badPowerCycle = np.where(powerPerCycle < thresh)[0]\n",
    "    badPowerInd = np.isin(cycleN, badPowerCycle)\n",
    "    \n",
    "    cycleLength = np.bincount(cycleN)\n",
    "    passBand = [1/(peakFreq + filtHalfBandWidth), 1/(peakFreq - filtHalfBandWidth)]\n",
    "    cycleLengthLim = np.ceil(1 / np.array(passBand) * sampling_rate)\n",
    "    badLengthCycle = np.where((cycleLength < cycleLengthLim[1]) | (cycleLength > cycleLengthLim[0]))[0]\n",
    "    badLengthInd = np.isin(cycleN, badLengthCycle)\n",
    "    \n",
    "    # Mask bad indices\n",
    "    badIndices = badLengthInd | badPowerInd\n",
    "    eegPhase[badIndices] = np.nan\n",
    "\n",
    "    # Map spike times to phase\n",
    "    spike_indices = (spike_times * sampling_rate).astype(int)\n",
    "    spike_phases = eegPhase[spike_indices]\n",
    "\n",
    "    return spike_phases\n",
    "\n",
    "\n"
   ]
  },
  {
   "cell_type": "code",
   "execution_count": null,
   "id": "fe3408c2",
   "metadata": {},
   "outputs": [],
   "source": [
    "from ephys import *\n",
    "obj = ephys(recording_type = 'nexus', path = '/home/isabella/Documents/isabella/jake/recording_data/r1364/2023-06-14')\n",
    "\n",
    "obj.load_spikes('good')\n",
    "len(obj.spike_data['spike times'])"
   ]
  }
 ],
 "metadata": {
  "kernelspec": {
   "display_name": "env_37",
   "language": "python",
   "name": "env_37"
  },
  "language_info": {
   "codemirror_mode": {
    "name": "ipython",
    "version": 3
   },
   "file_extension": ".py",
   "mimetype": "text/x-python",
   "name": "python",
   "nbconvert_exporter": "python",
   "pygments_lexer": "ipython3",
   "version": "3.7.16"
  }
 },
 "nbformat": 4,
 "nbformat_minor": 5
}
