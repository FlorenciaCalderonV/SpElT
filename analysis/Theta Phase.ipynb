{
 "cells": [
  {
   "cell_type": "code",
   "execution_count": null,
   "id": "73a9fbda",
   "metadata": {},
   "outputs": [],
   "source": [
    "import numpy as np\n",
    "\n",
    "def get_theta_phase(LFP, spike_times, sampling_rate, peakFreq, filtHalfBandWidth=3, powerThresh=5):\n",
    "    # Filter the LFP around the peakFreq\n",
    "    nyq = 0.5 * sampling_rate\n",
    "    low = (peakFreq - filtHalfBandWidth) / nyq\n",
    "    high = (peakFreq + filtHalfBandWidth) / nyq\n",
    "    taps = firwin(round(sampling_rate)+1, [low, high], pass_zero=False, window='blackman', fs=sampling_rate)\n",
    "    theta_LFP = filtfilt(taps, 1, LFP)\n",
    "\n",
    "    # Get the instantaneous phase using Hilbert transform\n",
    "    analytic_signal = hilbert(theta_LFP)\n",
    "    eegPhase = np.angle(analytic_signal)\n",
    "    eegPhase = np.mod(eegPhase, 2*np.pi)  # wrap into 0-2pi range\n",
    "\n",
    "    # Find phase transitions (i.e., cycle boundaries)\n",
    "    phaseTrans = np.diff(eegPhase) < -np.pi\n",
    "    phaseTrans = np.hstack(([True], phaseTrans, [True]))\n",
    "\n",
    "    # Remove phase slips\n",
    "    phaseSlips = np.hstack(([False], np.diff(np.unwrap(eegPhase)) < 0, [False]))\n",
    "    phaseTrans[phaseSlips] = False\n",
    "\n",
    "    # Numeric cycle index\n",
    "    cycleN = np.cumsum(phaseTrans[:-1])  # Exclude the last element to match the LFP's length\n",
    "\n",
    "    # EEG power and power per cycle\n",
    "    power = theta_LFP**2\n",
    "    powerPerCycle = np.bincount(cycleN, power) / np.bincount(cycleN)\n",
    "    \n",
    "    # Remove bad data based on power and cycle length thresholds\n",
    "    thresh = np.percentile(powerPerCycle, powerThresh)\n",
    "    badPowerCycle = np.where(powerPerCycle < thresh)[0]\n",
    "    badPowerInd = np.isin(cycleN, badPowerCycle)\n",
    "    \n",
    "    cycleLength = np.bincount(cycleN)\n",
    "    passBand = [1/(peakFreq + filtHalfBandWidth), 1/(peakFreq - filtHalfBandWidth)]\n",
    "    cycleLengthLim = np.ceil(1 / np.array(passBand) * sampling_rate)\n",
    "    badLengthCycle = np.where((cycleLength < cycleLengthLim[1]) | (cycleLength > cycleLengthLim[0]))[0]\n",
    "    badLengthInd = np.isin(cycleN, badLengthCycle)\n",
    "    \n",
    "    # Mask bad indices\n",
    "    badIndices = badLengthInd | badPowerInd\n",
    "    eegPhase[badIndices] = np.nan\n",
    "\n",
    "    # Map spike times to phase\n",
    "    spike_indices = (spike_times * sampling_rate).astype(int)\n",
    "    spike_phases = eegPhase[spike_indices]\n",
    "\n",
    "    return spike_phases\n",
    "\n",
    "\n"
   ]
  },
  {
   "cell_type": "code",
   "execution_count": 1,
   "id": "e30f4ebd",
   "metadata": {},
   "outputs": [
    {
     "name": "stdout",
     "output_type": "stream",
     "text": [
      "133373 spikes loaded from 20 clusters in 2 t-maze trial(s)\n"
     ]
    }
   ],
   "source": [
    "## Load spikes from t-maze trials\n",
    "# Set system path to allow ephys class import\n",
    "import sys\n",
    "import os\n",
    "sys.path.insert(1, os.path.join(sys.path[0], '..'))\n",
    "from ephys import *\n",
    "from ephys_utils import *\n",
    "\n",
    "obj = ephys(recording_type = 'nexus', path = '/home/isabella/Documents/isabella/jake/recording_data/r1364/2023-06-14')\n",
    "\n",
    "obj.load_spikes('good')\n",
    "\n",
    "# Select only spikes from t-maze trials\n",
    "t_maze_trials = [i for i, s in enumerate(obj.trial_list) if 't-maze' in s]\n",
    "t_maze_spikes = select_spikes_by_trial(obj.spike_data, t_maze_trials)\n",
    "\n",
    "print(f\"{len(t_maze_spikes['spike_times'])} spikes loaded from {len(np.unique(t_maze_spikes['spike_clusters']))} clusters in {len(t_maze_trials)} t-maze trial(s)\")"
   ]
  },
  {
   "cell_type": "code",
   "execution_count": null,
   "id": "50b1ddc6",
   "metadata": {
    "scrolled": false
   },
   "outputs": [],
   "source": [
    "## Load LFP for each channel with good units\n",
    "\n",
    "# Get unique channels where good units are found\n",
    "good_channels = list(sorted(set(obj.spike_data['cluster_channels'].values())))\n",
    "good_channels = [str(i) for i in good_channels]\n",
    "\n",
    "# Load LFP trace for each channel\n",
    "for i in t_maze_trials:\n",
    "    obj.load_lfp(i, 1250, 0, 600, good_channels)"
   ]
  },
  {
   "cell_type": "code",
   "execution_count": 19,
   "id": "6e175673",
   "metadata": {},
   "outputs": [
    {
     "data": {
      "text/plain": [
       "'<generator object <genexpr> at 0x7efca2e43f50>'"
      ]
     },
     "execution_count": 19,
     "metadata": {},
     "output_type": "execute_result"
    }
   ],
   "source": []
  },
  {
   "cell_type": "code",
   "execution_count": null,
   "id": "e175c612",
   "metadata": {},
   "outputs": [],
   "source": [
    " "
   ]
  }
 ],
 "metadata": {
  "kernelspec": {
   "display_name": "env_37",
   "language": "python",
   "name": "env_37"
  },
  "language_info": {
   "codemirror_mode": {
    "name": "ipython",
    "version": 3
   },
   "file_extension": ".py",
   "mimetype": "text/x-python",
   "name": "python",
   "nbconvert_exporter": "python",
   "pygments_lexer": "ipython3",
   "version": "3.7.16"
  }
 },
 "nbformat": 4,
 "nbformat_minor": 5
}
