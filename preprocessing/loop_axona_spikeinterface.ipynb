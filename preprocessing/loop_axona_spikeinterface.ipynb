{
 "cells": [
  {
   "cell_type": "markdown",
   "id": "ea0194e7",
   "metadata": {},
   "source": [
    "# SpikeInterface Processing Pipeline for Tetrodes & Neuronexus Probe\n",
    "### Jake Swann, 2023\n",
    "\n",
    "##### This is a notebook which takes a spreadsheet as input with information on raw Axona recordings, and sorts all unsorted recordings in a loop. It will concatenate all recordings made on each unique day, and sort them all together, to be split apart afterwards\n",
    "##### Each path in the spreadsheet should be to a folder containing raw Axona recordings (1 .set and 1 .bin file per recording)\n",
    "##### The script loads them as a [SpikeInterface](https://github.com/SpikeInterface) object & attaches probe geometry, spike sorts using [Klusta](https://github.com/kwikteam/klusta/), and allows curation of the output in the [phy](https://github.com/cortex-lab/phy/) kwik-gui\n",
    "##### **N.B.** This requires a Python 3.7 environment with various dependencies installed, including Klusta version 0.95.0, SpikeInterface, and phy. There is code to install most of these from within the 'axona_spikeinterface.ipynb' notebook\n",
    "---"
   ]
  },
  {
   "cell_type": "markdown",
   "id": "0df8c73c",
   "metadata": {},
   "source": [
    "#### Run axona_spikeinterface script on all recordings marked on a spreadsheet"
   ]
  },
  {
   "cell_type": "code",
   "execution_count": null,
   "id": "4e019997",
   "metadata": {
    "scrolled": true
   },
   "outputs": [],
   "source": [
    "import pandas as pd\n",
    "import numpy as np\n",
    "import spikeinterface as si\n",
    "from spikeinterface.extractors import read_axona\n",
    "from axona_preprocessing import *\n",
    "from pos_from_bin import *\n",
    "import os\n",
    "\n",
    "\n",
    "# sheet = pd.read_excel('tetrode_data_JS.xlsx')\n",
    "# sheet = pd.read_excel('probe_data_IV.xlsx')\n",
    "sheet = gs_to_df('https://docs.google.com/spreadsheets/d/1_Xs5i-rHNTywV-WuQ8-TZliSjTxQCCqGWOD2AL_LIq0/edit#gid=0')\n",
    "path_to_data = '/home/isabella/Documents/isabella/jake/recording_data/'\n",
    "sorting_suffix = 'sorting_ks2_custom'\n",
    "\n",
    "sheet['path'] = path_to_data + sheet['path']\n",
    "\n",
    "sheet_inc = sheet[sheet['Sort'] == 'Y']\n",
    "trial_list = sheet_inc['trial_name'].to_list()\n",
    "session_list = np.unique([f\"{i.split('_')[0]}_{i.split('_')[1]}\" for i in trial_list])    \n",
    "\n",
    "# Collect into sessions and preprocess\n",
    "recording_list = []\n",
    "for i,session in enumerate(session_list):\n",
    "    recording_list.append([])\n",
    "    for j in trial_list:\n",
    "        if session in j:\n",
    "            base_folder = sheet_inc[sheet_inc['trial_name'] == j]['path'].tolist()[0]\n",
    "            num_channels = int(sheet_inc[sheet_inc['trial_name'] == j]['num_channels'].tolist()[0])\n",
    "            electrode_type = sheet_inc[sheet_inc['trial_name'] == j]['probe_type'].tolist()[0]\n",
    "            print(f\"{base_folder}/{j}.set\")\n",
    "            recording = read_axona(f\"{base_folder}/{j}.set\")\n",
    "            \n",
    "            #Generate .pos file if not already present\n",
    "            if os.path.isfile(f'{base_folder}/{j}.pos') == 0:\n",
    "                pos_from_bin(f'{base_folder}/{j}')\n",
    "            \n",
    "            #Invert trace if recorded on -signal or ref-signal mode (mode 2 and 3)\n",
    "            # if int(get_mode(f\"{base_folder}/{j}.set\")) in [2,3]:\n",
    "#             recording = spre.scale(recording, gain=-1)\n",
    "#             print('Inverting recording trace')\n",
    "            \n",
    "            \n",
    "            recording_list[i].append([preprocess(recording = recording,\n",
    "                                     recording_name = j,\n",
    "                                     base_folder = base_folder,\n",
    "                                     electrode_type = electrode_type,\n",
    "                                     num_channels = num_channels),\n",
    "                                     j, base_folder, electrode_type])"
   ]
  },
  {
   "cell_type": "code",
   "execution_count": null,
   "id": "71d1bcaa",
   "metadata": {
    "scrolled": true
   },
   "outputs": [],
   "source": [
    "#Restart kernel so ipython can find the newly written files\n",
    "from IPython.core.display import HTML\n",
    "HTML(\"<script>Jupyter.notebook.kernel.restart()</script>\")\n",
    "\n",
    "# Concatenate over a single session and sort\n",
    "for i, recording in enumerate(recording_list):\n",
    "    recordings_concat = []\n",
    "    session = pd.DataFrame(recording)\n",
    "    recordings_concat.append(si.concatenate_recordings(session.iloc[:,0]))\n",
    "    for j, concat in enumerate(recordings_concat):\n",
    "        print(f'Sorting {concat}')\n",
    "        sorting = sort(recording = concat, \n",
    "             recording_name = session.iloc[0,1], \n",
    "             base_folder = session.iloc[0,2],\n",
    "             electrode_type = session.iloc[0,3],\n",
    "             sorting_suffix = sorting_suffix)\n",
    "    session.to_csv(f'{session.iloc[0,2]}/{session.iloc[0,1][:6]}_{sorting_suffix}/session.csv') #save session trial info to .csv\n"
   ]
  },
  {
   "cell_type": "markdown",
   "id": "d9202a01",
   "metadata": {
    "jp-MarkdownHeadingCollapsed": true,
    "tags": []
   },
   "source": [
    "##### Misc utils"
   ]
  },
  {
   "cell_type": "code",
   "execution_count": null,
   "id": "081edae7",
   "metadata": {},
   "outputs": [],
   "source": [
    "## Run phy on klusta output\n",
    "# from phy.apps.kwik import kwik_gui\n",
    "# os.environ[\"QTWEBENGINE_CHROMIUM_FLAGS\"] = \"--single-process\"\n",
    "\n",
    "# ## If tetrodes sorted separately, change channel_group to choose tetrode to display \n",
    "# kwik_gui(f'{base_folder}/{session_list[0]}_{sorting_suffix}/recording.kwik', channel_group=15, clustering=None)\n",
    "\n",
    "# from phy.apps.template import template_gui\n",
    "# template_gui(f'{base_folder}/{session_list[0]}_{sorting_suffix}/params.py')\n",
    "\n",
    "import spikeinterface.sorters as ss\n",
    "# ss.available_sorters()\n",
    "#ss.installed_sorters()\n",
    "ss.get_default_sorter_params('kilosort3')\n",
    "# ss.get_sorter_params_description('kilosort2')\n",
    "rmdir directory_name"
   ]
  },
  {
   "cell_type": "markdown",
   "id": "bd994ce6",
   "metadata": {
    "jp-MarkdownHeadingCollapsed": true,
    "tags": []
   },
   "source": [
    "#### Run phy on sorted tetrode recordings"
   ]
  },
  {
   "cell_type": "code",
   "execution_count": null,
   "id": "935a1338",
   "metadata": {},
   "outputs": [],
   "source": [
    "import shutil\n",
    "\n",
    "channel_group = 7 #Leave as 0 or set to None for probe recordings\n",
    "folder = '/home/isabella/Documents/isabella/jake/recording_data/r1299/2023-01-24/230124_sorting_klusta_1.5_3.5'\n",
    "\n",
    "from phy.apps.kwik import kwik_gui\n",
    "kwik_gui(f'{folder}/recording.kwik',\n",
    "                       channel_group=channel_group, clustering=None)\n",
    "shutil.copy(f'{folder}/cluster_info.tsv', f'{folder}/cluster_info_{channel_group}.tsv')"
   ]
  },
  {
   "cell_type": "markdown",
   "id": "a092010f",
   "metadata": {
    "jp-MarkdownHeadingCollapsed": true,
    "tags": []
   },
   "source": [
    "#### Concatenate cluster info files for tetrode recordings (once curated)"
   ]
  },
  {
   "cell_type": "code",
   "execution_count": null,
   "id": "e4f85b2b",
   "metadata": {},
   "outputs": [],
   "source": [
    "from utils import concat_cluster\n",
    "\n",
    "# folder = ''\n",
    "concat_cluster(folder)"
   ]
  },
  {
   "cell_type": "code",
   "execution_count": null,
   "id": "b64f04a4",
   "metadata": {},
   "outputs": [],
   "source": [
    "session.to_csv(f'{session.iloc[0,2]}/{session.iloc[0,1][:6]}_{sorting_suffix}/session.csv')"
   ]
  }
 ],
 "metadata": {
  "kernelspec": {
   "display_name": "env_37",
   "language": "python",
   "name": "env_37"
  },
  "language_info": {
   "codemirror_mode": {
    "name": "ipython",
    "version": 3
   },
   "file_extension": ".py",
   "mimetype": "text/x-python",
   "name": "python",
   "nbconvert_exporter": "python",
   "pygments_lexer": "ipython3",
   "version": "3.7.16"
  }
 },
 "nbformat": 4,
 "nbformat_minor": 5
}
