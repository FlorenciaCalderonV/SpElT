{
 "cells": [
  {
   "cell_type": "markdown",
   "metadata": {},
   "source": [
    "# SpikeInterface Processing Pipeline for OpenEphys Neuropixels 2 & raw Axona recordings\n",
    "### Jake Swann, 2024\n",
    "\n",
    "##### This is a notebook which takes a spreadsheet as input with information on NP2 OpenEphys recordings, and sorts all unsorted recordings in a loop. It will concatenate all recordings made for each animal on each unique day, and sort them all together, to be split apart afterwards\n",
    "##### Each path in the spreadsheet should be to a folder containing all recordings in a given day with the file structure: `base_folder/rXXXX/YYYY-MM-DD/`. Trial names should match those in the spreadsheet.\n",
    "##### Required spreadsheet columns are: `trial_name, path (animal and date parts only), probe_type ('NP2_openephys'), num_channels (384), include ('Y')`\n",
    "##### The script loads them as a [SpikeInterface](https://github.com/SpikeInterface) object & attaches probe geometry, spike sorts using [Kilosort2 (Axona)/ Kilosort 4 (Neuropixels)](https://github.com/MouseLand/Kilosort), and allows curation of the output in the [phy](https://github.com/cortex-lab/phy/) template-gui\n",
    "##### **N.B.** This requires a Python 3.8 environment with SpikeInterface v0.101+ installed\n",
    "---"
   ]
  },
  {
   "cell_type": "code",
   "execution_count": 1,
   "metadata": {},
   "outputs": [
    {
     "name": "stdout",
     "output_type": "stream",
     "text": [
      "/home/isabella/Documents/isabella/jake/recording_data/r1503/2024-03-15/240315_r1503_open-field-ml_1\n",
      "/home/isabella/Documents/isabella/jake/recording_data/r1503/2024-03-20/240320_r1503_sleep-ml_1\n",
      "/home/isabella/Documents/isabella/jake/recording_data/r1503/2024-03-20/240320_r1503_open-field-ml_2\n",
      "/home/isabella/Documents/isabella/jake/recording_data/r1503/2024-03-20/240320_r1503_open-field-sl_3\n",
      "/home/isabella/Documents/isabella/jake/recording_data/r1503/2024-03-15/concat.dat already exists, skipping concatenation\n",
      "Sorting ConcatenateSegmentRecording: 384 channels - 30.0kHz - 1 segments - 18,613,123 samples \n",
      "                             620.44s (10.34 minutes) - int16 dtype - 13.31 GiB\n",
      "Sorting loaded from file /home/isabella/Documents/isabella/jake/recording_data/r1503/2024-03-15/240315_sorting_ks4\n",
      "\n"
     ]
    },
    {
     "data": {
      "application/vnd.jupyter.widget-view+json": {
       "model_id": "c93df36e715f493798d1ebaf95c90450",
       "version_major": 2,
       "version_minor": 0
      },
      "text/plain": [
       "write_binary_recording:   0%|          | 0/1330 [00:00<?, ?it/s]"
      ]
     },
     "metadata": {},
     "output_type": "display_data"
    },
    {
     "name": "stdout",
     "output_type": "stream",
     "text": [
      "Concatenated recording saved to /home/isabella/Documents/isabella/jake/recording_data/r1503/2024-03-20/concat.dat\n",
      "Sorting ConcatenateSegmentRecording: 384 channels - 30.0kHz - 1 segments - 39,882,613 samples \n",
      "                             1,329.42s (22.16 minutes) - int16 dtype - 28.53 GiB\n",
      "========================================\n",
      "Loading recording with SpikeInterface...\n",
      "number of samples: 39882613\n",
      "number of channels: 384\n",
      "numbef of segments: 1\n",
      "sampling rate: 30000.0\n",
      "dtype: int16\n",
      "========================================\n",
      "Preprocessing filters computed in  3.57s; total  3.57s\n",
      "\n",
      "computing drift\n",
      "Re-computing universal templates from data.\n"
     ]
    },
    {
     "name": "stderr",
     "output_type": "stream",
     "text": [
      "100%|██████████| 665/665 [08:45<00:00,  1.27it/s]\n"
     ]
    },
    {
     "name": "stdout",
     "output_type": "stream",
     "text": [
      "drift computed in  531.77s; total  535.34s\n",
      "\n",
      "Extracting spikes using templates\n",
      "Re-computing universal templates from data.\n"
     ]
    },
    {
     "name": "stderr",
     "output_type": "stream",
     "text": [
      " 88%|████████▊ | 582/665 [07:34<01:05,  1.27it/s]"
     ]
    }
   ],
   "source": [
    "import os\n",
    "import numpy as np\n",
    "import pandas as pd\n",
    "import spikeinterface as si\n",
    "from pyscan.session_utils import gs_to_df\n",
    "from pyscan.sorting_utils.np2_preprocessing import sort_np2\n",
    "from pyscan.sorting_utils.axona_preprocessing import sort_axona\n",
    "from pyscan.sorting_utils.collect_sessions import collect_sessions\n",
    "\n",
    "# Load Google sheet\n",
    "sheet = gs_to_df('https://docs.google.com/spreadsheets/d/1cZxgOw7worcVZq8wIPslmU2jD__xm1MXnNgbs1-9ros/edit#gid=0')\n",
    "path_to_data = '/home/isabella/Documents/isabella/jake/recording_data/'\n",
    "sorting_suffix = 'sorting_ks4'\n",
    "probe_to_sort = 'NP2_openephys'\n",
    "\n",
    "# Format sheet, collect trials and sessions\n",
    "sheet['path'] = path_to_data + sheet['path']\n",
    "sheet_inc = sheet[sheet['Include'] == 'Y']\n",
    "sheet_inc = sheet_inc[sheet_inc['probe_type'] == probe_to_sort]\n",
    "trial_list = sheet_inc['trial_name'].to_list()\n",
    "session_list = np.unique([f\"{i.split('_')[0]}_{i.split('_')[1]}\" for i in trial_list])\n",
    "\n",
    "# Collect recordings for concatenation and sorting\n",
    "recording_list = collect_sessions(session_list, trial_list, sheet_inc, probe_to_sort)\n",
    "\n",
    "# Concatenate over a single session and sort\n",
    "for recording in recording_list:\n",
    "\tsession = pd.DataFrame(recording)\n",
    "\tbase_folder = session.iloc[0,2]\n",
    "\tprobe_type = session.iloc[0,3]\n",
    "\n",
    "\t# Concatenate recordings\n",
    "\trecordings_concat = si.concatenate_recordings(session.iloc[:,0].to_list())\n",
    "\n",
    "\tif probe_type == 'NP2_openephys':\n",
    "\t\t# Save concatenated recording to .dat\n",
    "\t\tif f'concat.dat' in os.listdir(base_folder):\n",
    "\t\t\tprint(f'{base_folder}/concat.dat already exists, skipping concatenation')\n",
    "\t\telse:\n",
    "\t\t\tsi.write_binary_recording(recordings_concat, f'{base_folder}/concat.dat')\n",
    "\t\t\tprint(f'Concatenated recording saved to {base_folder}/concat.dat')\n",
    "\t\t# Sort concatenated recording\n",
    "\t\tprint(f'Sorting {recordings_concat}')\n",
    "\t\tsorting = sort_np2(recording = recordings_concat, \n",
    "\t\t\t\trecording_name = session.iloc[0,1], \n",
    "\t\t\t\tbase_folder = session.iloc[0,2],\n",
    "\t\t\t\tsorting_suffix = sorting_suffix)\n",
    "\t\t\n",
    "\telif probe_type == '5x12_buz':\n",
    "\t\tprint(f'Sorting {recordings_concat}')\n",
    "\t\tsorting = sort_axona(recording = recordings_concat, \n",
    "\t\t\t\trecording_name = session.iloc[0,1], \n",
    "\t\t\t\tbase_folder = session.iloc[0,2],\n",
    "\t\t\t\telectrode_type = session.iloc[0,3],\n",
    "\t\t\t\tsorting_suffix = sorting_suffix)\n",
    "\n",
    "\t\tsession.to_csv(f'{session.iloc[0,2]}/{session.iloc[0,1][:6]}_{sorting_suffix}/session.csv') #save session trial info to .csv"
   ]
  },
  {
   "cell_type": "markdown",
   "metadata": {},
   "source": [
    "#### Unused Code"
   ]
  },
  {
   "cell_type": "code",
   "execution_count": null,
   "metadata": {},
   "outputs": [
    {
     "name": "stdout",
     "output_type": "stream",
     "text": [
      "========================================\n",
      "Loading recording with SpikeInterface...\n",
      "number of samples: 18613123\n",
      "number of channels: 384\n",
      "numbef of segments: 1\n",
      "sampling rate: 30000.0\n",
      "dtype: int16\n",
      "========================================\n",
      "Interpreting binary file as default dtype='int16'. If data was saved in a different format, specify `data_dtype`.\n",
      "Using GPU for PyTorch computations. Specify `device` to change this.\n"
     ]
    },
    {
     "ename": "TypeError",
     "evalue": "string indices must be integers",
     "output_type": "error",
     "traceback": [
      "\u001b[0;31m---------------------------------------------------------------------------\u001b[0m",
      "\u001b[0;31mTypeError\u001b[0m                                 Traceback (most recent call last)",
      "Cell \u001b[0;32mIn[28], line 6\u001b[0m\n\u001b[1;32m      3\u001b[0m settings \u001b[38;5;241m=\u001b[39m {\u001b[38;5;124m'\u001b[39m\u001b[38;5;124mfs\u001b[39m\u001b[38;5;124m'\u001b[39m: \u001b[38;5;241m30000\u001b[39m, \u001b[38;5;124m'\u001b[39m\u001b[38;5;124mn_chan_bin\u001b[39m\u001b[38;5;124m'\u001b[39m: \u001b[38;5;241m384\u001b[39m}\n\u001b[1;32m      5\u001b[0m wrapper \u001b[38;5;241m=\u001b[39m io\u001b[38;5;241m.\u001b[39mRecordingExtractorAsArray(recordings_concat)\n\u001b[0;32m----> 6\u001b[0m ops, st, clu, tF, Wall, similar_templates, is_ref, est_contam_rate \u001b[38;5;241m=\u001b[39m \u001b[43mrun_kilosort\u001b[49m\u001b[43m(\u001b[49m\n\u001b[1;32m      7\u001b[0m \u001b[43m    \u001b[49m\u001b[43msettings\u001b[49m\u001b[38;5;241;43m=\u001b[39;49m\u001b[43msettings\u001b[49m\u001b[43m,\u001b[49m\u001b[43m \u001b[49m\u001b[43mprobe\u001b[49m\u001b[38;5;241;43m=\u001b[39;49m\u001b[38;5;124;43m'\u001b[39;49m\u001b[38;5;124;43mNP2_kilosortChanMap.mat\u001b[39;49m\u001b[38;5;124;43m'\u001b[39;49m\u001b[43m,\u001b[49m\u001b[43m \u001b[49m\u001b[43mfilename\u001b[49m\u001b[38;5;241;43m=\u001b[39;49m\u001b[38;5;124;43m'\u001b[39;49m\u001b[38;5;124;43m/home/isabella/Documents/isabella/jake/recording_data/r1503/2024-03-15/240315_sorting_ks4\u001b[39;49m\u001b[38;5;124;43m'\u001b[39;49m\u001b[43m,\u001b[49m\u001b[43m \u001b[49m\u001b[43mfile_object\u001b[49m\u001b[38;5;241;43m=\u001b[39;49m\u001b[43mwrapper\u001b[49m\u001b[43m)\u001b[49m\n",
      "File \u001b[0;32m/data/isabella/jake/ephys_analysis/Kilosort/kilosort/run_kilosort.py:127\u001b[0m, in \u001b[0;36mrun_kilosort\u001b[0;34m(settings, probe, probe_name, filename, data_dir, file_object, results_dir, data_dtype, do_CAR, invert_sign, device, progress_bar, save_extra_vars)\u001b[0m\n\u001b[1;32m    124\u001b[0m \u001b[38;5;66;03m# NOTE: Also modifies settings in-place\u001b[39;00m\n\u001b[1;32m    125\u001b[0m filename, data_dir, results_dir, probe \u001b[38;5;241m=\u001b[39m \\\n\u001b[1;32m    126\u001b[0m     set_files(settings, filename, probe, probe_name, data_dir, results_dir)\n\u001b[0;32m--> 127\u001b[0m ops \u001b[38;5;241m=\u001b[39m \u001b[43minitialize_ops\u001b[49m\u001b[43m(\u001b[49m\u001b[43msettings\u001b[49m\u001b[43m,\u001b[49m\u001b[43m \u001b[49m\u001b[43mprobe\u001b[49m\u001b[43m,\u001b[49m\u001b[43m \u001b[49m\u001b[43mdata_dtype\u001b[49m\u001b[43m,\u001b[49m\u001b[43m \u001b[49m\u001b[43mdo_CAR\u001b[49m\u001b[43m,\u001b[49m\u001b[43m \u001b[49m\u001b[43minvert_sign\u001b[49m\u001b[43m,\u001b[49m\u001b[43m \u001b[49m\u001b[43mdevice\u001b[49m\u001b[43m)\u001b[49m\n\u001b[1;32m    129\u001b[0m \u001b[38;5;66;03m# Set preprocessing and drift correction parameters\u001b[39;00m\n\u001b[1;32m    130\u001b[0m ops \u001b[38;5;241m=\u001b[39m compute_preprocessing(ops, device, tic0\u001b[38;5;241m=\u001b[39mtic0, file_object\u001b[38;5;241m=\u001b[39mfile_object)\n",
      "File \u001b[0;32m/data/isabella/jake/ephys_analysis/Kilosort/kilosort/run_kilosort.py:213\u001b[0m, in \u001b[0;36minitialize_ops\u001b[0;34m(settings, probe, data_dtype, do_CAR, invert_sign, device)\u001b[0m\n\u001b[1;32m    211\u001b[0m ops[\u001b[38;5;124m'\u001b[39m\u001b[38;5;124minvert_sign\u001b[39m\u001b[38;5;124m'\u001b[39m] \u001b[38;5;241m=\u001b[39m invert_sign\n\u001b[1;32m    212\u001b[0m ops[\u001b[38;5;124m'\u001b[39m\u001b[38;5;124mNTbuff\u001b[39m\u001b[38;5;124m'\u001b[39m] \u001b[38;5;241m=\u001b[39m ops[\u001b[38;5;124m'\u001b[39m\u001b[38;5;124mbatch_size\u001b[39m\u001b[38;5;124m'\u001b[39m] \u001b[38;5;241m+\u001b[39m \u001b[38;5;241m2\u001b[39m \u001b[38;5;241m*\u001b[39m ops[\u001b[38;5;124m'\u001b[39m\u001b[38;5;124mnt\u001b[39m\u001b[38;5;124m'\u001b[39m]\n\u001b[0;32m--> 213\u001b[0m ops[\u001b[38;5;124m'\u001b[39m\u001b[38;5;124mNchan\u001b[39m\u001b[38;5;124m'\u001b[39m] \u001b[38;5;241m=\u001b[39m \u001b[38;5;28mlen\u001b[39m(\u001b[43mprobe\u001b[49m\u001b[43m[\u001b[49m\u001b[38;5;124;43m'\u001b[39;49m\u001b[38;5;124;43mchanMap\u001b[39;49m\u001b[38;5;124;43m'\u001b[39;49m\u001b[43m]\u001b[49m)\n\u001b[1;32m    214\u001b[0m ops[\u001b[38;5;124m'\u001b[39m\u001b[38;5;124mn_chan_bin\u001b[39m\u001b[38;5;124m'\u001b[39m] \u001b[38;5;241m=\u001b[39m settings[\u001b[38;5;124m'\u001b[39m\u001b[38;5;124mn_chan_bin\u001b[39m\u001b[38;5;124m'\u001b[39m]\n\u001b[1;32m    215\u001b[0m ops[\u001b[38;5;124m'\u001b[39m\u001b[38;5;124mtorch_device\u001b[39m\u001b[38;5;124m'\u001b[39m] \u001b[38;5;241m=\u001b[39m \u001b[38;5;28mstr\u001b[39m(device)\n",
      "\u001b[0;31mTypeError\u001b[0m: string indices must be integers"
     ]
    }
   ],
   "source": [
    "import spikeinterface as si\n",
    "import spikeinterface.extractors as se\n",
    "import spikeinterface.widgets as sw\n",
    "\n",
    "recording_path = '/data/isabella/jake/recording_data/NP2 data/2024-03-15/test/2024-03-15_13-05-49'\n",
    "sorting_path = '/data/isabella/jake/recording_data/NP2 data/2024-03-15/test/kilosort4'\n",
    "\n",
    "recording = se.read_openephys(folder_path=recording_path, stream_id = '0')\n",
    "sorting = se.read_phy(sorting_path, exclude_cluster_groups=['noise', 'mua'])\n",
    "\n",
    "\n",
    "import spikeinterface.postprocessing as sp\n",
    "sorting_analyzer = si.create_sorting_analyzer(sorting=sorting, recording=recording)\n",
    "sorting_analyzer.compute('random_spikes')\n",
    "sorting_analyzer.compute('waveforms')\n",
    "sorting_analyzer.compute_one_extension('templates')\n",
    "si.postprocessing.compute_template_metrics(sorting_analyzer)\n",
    "unit_locations = sorting_analyzer.compute(input=\"unit_locations\", method=\"monopolar_triangulation\")\n",
    "\n",
    "sw.plot_rasters(sorting, time_range=[0, 10])\n",
    "\n"
   ]
  }
 ],
 "metadata": {
  "kernelspec": {
   "display_name": "env_38",
   "language": "python",
   "name": "python3"
  },
  "language_info": {
   "codemirror_mode": {
    "name": "ipython",
    "version": 3
   },
   "file_extension": ".py",
   "mimetype": "text/x-python",
   "name": "python",
   "nbconvert_exporter": "python",
   "pygments_lexer": "ipython3",
   "version": "3.8.18"
  }
 },
 "nbformat": 4,
 "nbformat_minor": 2
}
