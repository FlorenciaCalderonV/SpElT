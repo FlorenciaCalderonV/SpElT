{
 "cells": [
  {
   "cell_type": "markdown",
   "id": "50b73f5f-7b90-40c5-92d4-f3569bd9c146",
   "metadata": {
    "tags": []
   },
   "source": [
    "## 1. Load data from all sessions"
   ]
  },
  {
   "cell_type": "markdown",
   "id": "3c38af40-c0cb-4564-a210-3164dc8f28b9",
   "metadata": {},
   "source": [
    "#### Load name and path of all sessions"
   ]
  },
  {
   "cell_type": "code",
   "execution_count": null,
   "id": "155729ab-ad2e-4fa4-a203-649520e7c883",
   "metadata": {},
   "outputs": [],
   "source": [
    "import sys\n",
    "import os\n",
    "sys.path.insert(1, os.path.join(sys.path[0], '..'))\n",
    "import warnings\n",
    "warnings.filterwarnings(\"ignore\", category=DeprecationWarning)\n",
    "\n",
    "from session_utils import find_all_sessions\n",
    "\n",
    "# Find all included sessions from Google sheet, with structure session_name: path\n",
    "session_dict = find_all_sessions(sheet_path = 'https://docs.google.com/spreadsheets/d/1_Xs5i-rHNTywV-WuQ8-TZliSjTxQCCqGWOD2AL_LIq0/edit#gid=0',\n",
    "                                 data_path = '/home/isabella/Documents/isabella/jake/recording_data',\n",
    "                                 sorting_suffix = 'sorting_ks2_custom')\n",
    "print(f'{len(session_dict.items())} sessions found')"
   ]
  },
  {
   "cell_type": "markdown",
   "id": "87021594-d600-416a-9d37-7923efee2f4e",
   "metadata": {
    "tags": []
   },
   "source": [
    "## 2. Loop over all sessions, load data and filter for pyramidal cells\n",
    "### Criteria:\n",
    "#### - A. Cluster marked 'good' in phy\n",
    "#### - B. Cluster depth 0 +-200um\n",
    "#### - C. No mean firing rate cutoff\n",
    "#### - D. Mean spike width >300us\n",
    "#### - E. Burst index - first moment of AC < 25\n",
    "#### - F. Spatial information - currently no cutoff value set"
   ]
  },
  {
   "cell_type": "code",
   "execution_count": null,
   "id": "fce5f843-a9a4-4eb1-8d0c-eba9cd178e20",
   "metadata": {},
   "outputs": [],
   "source": [
    "from ephys import *\n",
    "\n",
    "for session, session_path in session_dict.items():\n",
    "    \n",
    "    # Create ephys object\n",
    "    obj = ephys(recording_type = 'nexus', path = session_path)\n",
    "    \n",
    "    ## A. Load good cells from phy\n",
    "    obj.load_spikes('good')\n",
    "    \n",
    "    # Get cluster info from phy\n",
    "    cluster_info = obj.spike_data['cluster_info']\n",
    "    # Get total good cells for session\n",
    "    total_cells = len(cluster_info.index)\n",
    "    \n",
    "    \n",
    "    ## B. Get cluster depths and exclude any outside of 0 +-200um\n",
    "    cluster_info = cluster_info[cluster_info['depth'].between(-200, 200)].copy()\n",
    "    \n",
    "\n",
    "    # ## C. Filter for mean firing rate between 1-10 Hz\n",
    "    # cluster_info = cluster_info[cluster_info['fr'].between(0.1, 10)]\n",
    "    \n",
    "    ## D. Filter for spike width >300 us from template\n",
    "    if not cluster_info.empty:\n",
    "        obj.load_mean_waveforms(clusters_to_load = list(cluster_info.index)) #Pick up to 500 spikes at random for performance\n",
    "\n",
    "        # Calculate spike width for each cluster from mean of every 50th spike \n",
    "        for cluster, mean_waveform in obj.mean_waveforms.items():\n",
    "            \n",
    "            # Find peak to trough time in us\n",
    "            peak = np.argmin(mean_waveform)\n",
    "            trough = np.argmax(mean_waveform[peak:]) + peak\n",
    "            peak_to_trough = trough - peak\n",
    "            \n",
    "            cluster_info.loc[cluster, 'spike_width_microseconds'] = (peak_to_trough / obj.spike_data['sampling_rate']) * 1e6\n",
    "        \n",
    "        # Filter for spike width > 300us as in Wills et al., 2010\n",
    "        cluster_info = cluster_info[cluster_info['spike_width_microseconds'] > 300].copy()\n",
    "\n",
    "    \n",
    "    ## E. Calculate burst index and filter\n",
    "    if not cluster_info.empty:\n",
    "        \n",
    "        # Reload spike data only for included cells\n",
    "        clusters_inc = list(cluster_info.index)\n",
    "        obj.load_spikes(clusters_to_load = clusters_inc)\n",
    "        \n",
    "        # Generate autocorrelograms and burst index for each cluster\n",
    "        from burst_index_and_autocorrelograms import *\n",
    "\n",
    "        spike_times_inc = obj.spike_data['spike_times']\n",
    "        spike_clusters_inc = obj.spike_data['spike_clusters']\n",
    "\n",
    "        autocorrelograms, first_moments = compute_autocorrelograms_and_first_moment(spike_times_inc, \n",
    "                                                                                     spike_clusters_inc, \n",
    "                                                                                     bin_size = 0.001, #1ms\n",
    "                                                                                     time_window = 0.05) #50ms\n",
    "        \n",
    "        cluster_info['first_moment_AC'] = first_moments.values()\n",
    "        \n",
    "        # Filter for first moment <25\n",
    "        cluster_info = cluster_info[cluster_info['first_moment_AC'] < 25]\n",
    "        \n",
    "    ## F. Calculate spatial information and filter NOT IMPLEMENTED\n",
    "    \n",
    "    ## SAVE INCLUDED CLUSTER IDs TO .NPY\n",
    "    clusters_inc = cluster_info.index\n",
    "    n_clusters_inc = len(cluster_info.index)\n",
    "\n",
    "    np.save(f'{session_path}/clusters_inc.npy', clusters_inc)        \n",
    "        \n",
    "    print(f'Session {session}: {n_clusters_inc} cells retained of {total_cells} good cells from phy. Retained cells: {clusters_inc.values}')"
   ]
  }
 ],
 "metadata": {
  "kernelspec": {
   "display_name": "Python 3.8",
   "language": "python",
   "name": "env_38"
  },
  "language_info": {
   "codemirror_mode": {
    "name": "ipython",
    "version": 3
   },
   "file_extension": ".py",
   "mimetype": "text/x-python",
   "name": "python",
   "nbconvert_exporter": "python",
   "pygments_lexer": "ipython3",
   "version": "3.8.18"
  }
 },
 "nbformat": 4,
 "nbformat_minor": 5
}
