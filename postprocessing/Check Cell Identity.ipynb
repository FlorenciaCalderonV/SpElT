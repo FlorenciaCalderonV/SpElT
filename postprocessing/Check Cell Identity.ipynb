{
 "cells": [
  {
   "cell_type": "markdown",
   "id": "50b73f5f-7b90-40c5-92d4-f3569bd9c146",
   "metadata": {
    "tags": []
   },
   "source": [
    "#### Load data from a single session"
   ]
  },
  {
   "cell_type": "code",
   "execution_count": 1,
   "id": "dafc9358",
   "metadata": {},
   "outputs": [
    {
     "name": "stdout",
     "output_type": "stream",
     "text": [
      "Loading pos file: /home/isabella/Documents/isabella/jake/recording_data/r1364/2023-06-14/230614_r1364_raw_open-field_1.pos\n",
      "893 LED swaps detected and fixed\n"
     ]
    },
    {
     "name": "stderr",
     "output_type": "stream",
     "text": [
      "/data/isabella/jake/ephys_analysis/pyScan/postprocessing/../postprocessing/postprocess_pos_data.py:219: RuntimeWarning: invalid value encountered in remainder\n",
      "  dir_disp = np.mod(np.arctan2(-pos.iloc[1, 1:].values + pos.iloc[1, :-1].values, pos.iloc[0, 1:].values - pos.iloc[0, :-1].values) * 180 / np.pi, 360)\n"
     ]
    },
    {
     "name": "stdout",
     "output_type": "stream",
     "text": [
      "Loading pos file: /home/isabella/Documents/isabella/jake/recording_data/r1364/2023-06-14/230614_r1364_raw_t-maze_1.pos\n",
      "147 LED swaps detected and fixed\n",
      "Loading pos file: /home/isabella/Documents/isabella/jake/recording_data/r1364/2023-06-14/230614_r1364_raw_open-field_2.pos\n",
      "631 LED swaps detected and fixed\n",
      "Loading pos file: /home/isabella/Documents/isabella/jake/recording_data/r1364/2023-06-14/230614_r1364_raw_t-maze_2.pos\n",
      "95 LED swaps detected and fixed\n"
     ]
    }
   ],
   "source": [
    "import sys\n",
    "import os\n",
    "sys.path.insert(1, os.path.join(sys.path[0], '..'))\n",
    "from ephys import *\n",
    "from ephys_utils import select_spikes_by_trial, transform_spike_data, find_template_for_clusters\n",
    "from spatial_analysis import *\n",
    "\n",
    "pos_sample_rate = 50\n",
    "path_to_session = '/home/isabella/Documents/isabella/jake/recording_data/r1364/2023-06-14'\n",
    "\n",
    "# Load spike times and position for a single session\n",
    "obj = ephys(recording_type = 'nexus', path = path_to_session)\n",
    "\n",
    "obj.load_spikes('good')\n",
    "obj.load_pos([i for i, s in enumerate(obj.trial_list)])"
   ]
  },
  {
   "cell_type": "markdown",
   "id": "9f7236fe-ce58-48c5-9224-e8b62cdc590d",
   "metadata": {
    "tags": []
   },
   "source": [
    "#### Filter good cells to only include CA1 pyramidal cells following criteria for inclusion in Wills et al., 2010"
   ]
  },
  {
   "cell_type": "code",
   "execution_count": 2,
   "id": "1e6286a2-02ee-47c4-90e2-da63900e8457",
   "metadata": {},
   "outputs": [
    {
     "name": "stdout",
     "output_type": "stream",
     "text": [
      "12 cells retained of 20 good cells from phy\n"
     ]
    }
   ],
   "source": [
    "cluster_info = obj.spike_data['cluster_info'] #Get cluster info from phy\n",
    "\n",
    "## Get cluster depths and exclude any outside of 0 +-200um\n",
    "cluster_info = cluster_info[cluster_info['depth'].between(-200, 200)]\n",
    "\n",
    "## Filter for mean firing rate - CHECK EXACT VALUES\n",
    "cluster_info = cluster_info[cluster_info['fr'].between(1, 10)]\n",
    "\n",
    "## Filter for spike width from template\n",
    "# Find kilosort template for each cluster (closely approximates spike width) and add to dataframe\n",
    "template_per_cluster = find_template_for_clusters(obj.spike_data['spike_clusters'], obj.spike_data['spike_templates'])\n",
    "template_df = pd.DataFrame.from_dict(template_per_cluster, orient = 'index')\n",
    "template_df.columns = ['template_id']\n",
    "\n",
    "cluster_info = cluster_info.join(template_df, how = 'left')\n",
    "\n",
    "# Load templates.npy\n",
    "templates = np.load(f'{path_to_session}/{path_to_session[-8:-6]}{path_to_session[-5:-3]}{path_to_session[-2:]}_sorting_ks2_custom/templates.npy')\n",
    "# Load inverse whitening matrix and apply to unwhiten templates\n",
    "whitening_matrix_inv =  np.load(f'{path_to_session}/{path_to_session[-8:-6]}{path_to_session[-5:-3]}{path_to_session[-2:]}_sorting_ks2_custom/whitening_mat_inv.npy')\n",
    "unwhitened_templates = np.einsum('ijk,kl->ijl', templates, whitening_matrix_inv)\n",
    "\n",
    "# Add template values to dataframe\n",
    "cluster_info['template'] = cluster_info.apply(lambda row: templates[int(row['template_id']), :, int(row['ch'])], axis=1)\n",
    "\n",
    "# Work out template width peak to trough\n",
    "sampling_rate = obj.spike_data['sampling_rate']\n",
    "\n",
    "spike_width_samples = cluster_info['template'].apply(\n",
    "    lambda x: np.abs(np.argmax(x) - np.argmin(x))\n",
    ")\n",
    "\n",
    "# Convert spike width to microseconds and add to dataframe\n",
    "spike_width_microseconds = (spike_width_samples/sampling_rate)*1000000\n",
    "cluster_info['spike_width_microseconds'] = spike_width_microseconds\n",
    "\n",
    "# Filter for spike width > 300us as in Wills et al., 2010\n",
    "cluster_info = cluster_info[cluster_info['spike_width_microseconds'] > 300]\n",
    "\n",
    "print(f'{len(cluster_info.index)} cells retained of {len(obj.spike_data[\"cluster_info\"].index)} good cells from phy')"
   ]
  },
  {
   "cell_type": "code",
   "execution_count": 3,
   "id": "c007ebe1-3467-4041-a09f-2d640934a07b",
   "metadata": {},
   "outputs": [
    {
     "name": "stdout",
     "output_type": "stream",
     "text": [
      "Reloaded spike data for 12 candidate CA1 pyramidal cells\n"
     ]
    }
   ],
   "source": [
    "# Reload spike data only for included cells\n",
    "clusters_inc = list(cluster_info.index)\n",
    "obj.load_spikes(clusters_to_load = clusters_inc)\n",
    "\n",
    "print(f'Reloaded spike data for {len(clusters_inc)} candidate CA1 pyramidal cells')"
   ]
  },
  {
   "cell_type": "code",
   "execution_count": 4,
   "id": "e005ad9e-a2cc-4fd5-bc31-22424e3483d4",
   "metadata": {},
   "outputs": [],
   "source": [
    "# Generate autocorrelograms and burst index for each cluster\n",
    "from burst_index_and_autocorrelograms import *\n",
    "\n",
    "spike_times_inc = obj.spike_data['spike_times']\n",
    "spike_clusters_inc = obj.spike_data['spike_clusters']\n",
    "\n",
    "autocorrelograms, burst_indices = compute_autocorrelograms_and_burst_indices(spike_times_inc, \n",
    "                                                                             spike_clusters_inc, \n",
    "                                                                             bin_size = 0.001, #1ms\n",
    "                                                                             time_window = 0.05, #50ms\n",
    "                                                                             burst_threshold = 0.01 #10ms\n",
    "                                                                            )\n",
    "cluster_info['burst_index'] = burst_indices.values()"
   ]
  },
  {
   "cell_type": "code",
   "execution_count": 5,
   "id": "9b65d6e3-c2c0-4623-9080-8011333e5209",
   "metadata": {
    "scrolled": true,
    "tags": []
   },
   "outputs": [
    {
     "data": {
      "application/vnd.jupyter.widget-view+json": {
       "model_id": "16741b20a5754b76b6f7534b8e1bf23c",
       "version_major": 2,
       "version_minor": 0
      },
      "text/plain": [
       "interactive(children=(Dropdown(description='Cluster ID:', options=(304, 307, 311, 319, 320, 323, 328, 339, 344…"
      ]
     },
     "metadata": {},
     "output_type": "display_data"
    }
   ],
   "source": [
    "# Plot the autocorrelograms\n",
    "import warnings\n",
    "warnings.filterwarnings(\"ignore\", category=DeprecationWarning)\n",
    "\n",
    "plot_autocorrelograms_with_dropdown(autocorrelograms)"
   ]
  },
  {
   "cell_type": "code",
   "execution_count": 6,
   "id": "40cdfc2e",
   "metadata": {
    "scrolled": true
   },
   "outputs": [],
   "source": [
    "# Loop through trials and generate rate maps\n",
    "rate_maps = {}\n",
    "occupancy = {}\n",
    "\n",
    "for trial, trial_name in enumerate(obj.trial_list):\n",
    "    \n",
    "    # Select spikes for current trial and transform to create a dict of {cluster: spike_times, cluster:spike_times}\n",
    "    current_trial_spikes = select_spikes_by_trial(obj.spike_data, trial, obj.trial_offsets)\n",
    "    current_trial_spikes = transform_spike_data(current_trial_spikes)\n",
    "    \n",
    "    \n",
    "    rate_maps[trial], occupancy[trial] = generate_rate_maps(spike_data = current_trial_spikes,\n",
    "                               positions = obj.pos_data[trial]['xy_position'],  \n",
    "                               ppm = 400, \n",
    "                               x_bins = 50,\n",
    "                               y_bins = 50,\n",
    "                               dt = 1.0,\n",
    "                               smoothing_window = 10)\n"
   ]
  },
  {
   "cell_type": "code",
   "execution_count": 7,
   "id": "99dc6720",
   "metadata": {
    "tags": []
   },
   "outputs": [
    {
     "data": {
      "application/vnd.jupyter.widget-view+json": {
       "model_id": "10c60206fb474948a81507e0ad3d87f5",
       "version_major": 2,
       "version_minor": 0
      },
      "text/plain": [
       "interactive(children=(Dropdown(description='Cluster ID:', options=(304, 307, 311, 319, 320, 323, 328, 339, 344…"
      ]
     },
     "metadata": {},
     "output_type": "display_data"
    }
   ],
   "source": [
    "#Plot rate maps\n",
    "interactive_cluster_plot(rate_maps, title_prefix=\"Rate Maps\")\n"
   ]
  },
  {
   "cell_type": "code",
   "execution_count": 8,
   "id": "db901528-7edc-46e2-8c05-1c819bf2044d",
   "metadata": {},
   "outputs": [
    {
     "data": {
      "text/plain": [
       "{0: {304: 0.00870528442709359,\n",
       "  307: 0.021597820683300805,\n",
       "  311: 0.007845765701137363,\n",
       "  319: 0.034017693243491465,\n",
       "  320: 0.006918015696174691,\n",
       "  323: 0.049586851775867316,\n",
       "  328: 0.01812516713329497,\n",
       "  339: 0.04041423136094044,\n",
       "  344: 0.024992576180382794,\n",
       "  356: 0.008480155839269792,\n",
       "  367: 0.020442169899537933,\n",
       "  369: 0.005964909392598753},\n",
       " 1: {304: 0.013696505957652611,\n",
       "  307: 0.021408739701547566,\n",
       "  311: 0.006933053602450876,\n",
       "  319: 0.009152825222202246,\n",
       "  320: 0.012894410287277603,\n",
       "  323: 0.016935527829033428,\n",
       "  328: 0.009337559652727093,\n",
       "  339: 0.016358279892725307,\n",
       "  344: 0.02466583219073954,\n",
       "  356: 0.00386571183776087,\n",
       "  367: 0.012256209722344997,\n",
       "  369: 0.007690658724720244},\n",
       " 2: {304: 0.010752579481752457,\n",
       "  307: 0.015407363398510662,\n",
       "  311: 0.006309856947500501,\n",
       "  319: 15890746.02701045,\n",
       "  320: 15890745.848372359,\n",
       "  323: 15890745.816983908,\n",
       "  328: 0.019526566314711065,\n",
       "  339: 0.017606442563150623,\n",
       "  344: 0.04033978272208272,\n",
       "  356: 0.0038760907075269463,\n",
       "  367: 0.02890332832943234,\n",
       "  369: 0.01185302873634771},\n",
       " 3: {304: 0.011524060996989794,\n",
       "  307: 0.00726109581379974,\n",
       "  311: 0.0066109847468262505,\n",
       "  319: 0.013643212991241476,\n",
       "  320: 0.004894948636938209,\n",
       "  323: 0.045492733835733774,\n",
       "  328: 0.016827906056290406,\n",
       "  339: 0.023920317817140668,\n",
       "  344: 0.012641470084959968,\n",
       "  356: 0.006869696282742557,\n",
       "  367: 0.009344044162145296,\n",
       "  369: 0.011590228157340291}}"
      ]
     },
     "execution_count": 8,
     "metadata": {},
     "output_type": "execute_result"
    }
   ],
   "source": [
    "from scipy.stats import entropy\n",
    "\n",
    "def calculate_spatial_information(rate_maps, occupancy, dt=1.0):\n",
    "    \"\"\"\n",
    "    Calculate Skaggs' spatial information score for given rate maps and occupancy.\n",
    "    \n",
    "    Parameters:\n",
    "    - rate_maps: dict\n",
    "        Dictionary containing smoothed rate maps organized by clusters.\n",
    "    - occupancy: np.ndarray\n",
    "        2D array indicating occupancy of each bin.\n",
    "    - dt: float\n",
    "        Time window for spike count.\n",
    "        \n",
    "    Returns:\n",
    "    - skaggs_info_dict: dict\n",
    "        Dictionary containing Skaggs' spatial information scores organized by clusters.\n",
    "    \"\"\"\n",
    "    \n",
    "    skaggs_info_dict = {}\n",
    "    \n",
    "    # Calculate the total time spent in the environment\n",
    "    total_time = np.nansum(occupancy) * dt\n",
    "\n",
    "    for cluster, rate_map in rate_maps.items():\n",
    "        \n",
    "        # Calculate mean firing rate across all bins\n",
    "        mean_firing_rate = np.nansum(rate_map * occupancy) / total_time\n",
    "\n",
    "        # Calculate probability of occupancy for each bin\n",
    "        prob_occupancy = occupancy / np.nansum(occupancy)\n",
    "\n",
    "        # Calculate Skaggs' spatial information score\n",
    "        non_zero_idx = (rate_map > 0) & (prob_occupancy > 0)\n",
    "        skaggs_info = np.nansum(\n",
    "            prob_occupancy[non_zero_idx] *\n",
    "            rate_map[non_zero_idx] *\n",
    "            np.log2(rate_map[non_zero_idx] / mean_firing_rate)\n",
    "        )\n",
    "\n",
    "        skaggs_info_dict[cluster] = skaggs_info\n",
    "            \n",
    "    return skaggs_info_dict\n",
    "\n",
    "# Calculate spatial information - NEEDS ADJUSTING TO HANDLE NAN VALUES\n",
    "spatial_info = {}\n",
    "\n",
    "for i in rate_maps.keys():\n",
    "    spatial_info[i] = calculate_spatial_information(rate_maps[i], occupancy[i], dt = 1)\n",
    "spatial_info"
   ]
  },
  {
   "cell_type": "code",
   "execution_count": 9,
   "id": "8bbcd754-11b3-4ad6-a647-f72bf244fa89",
   "metadata": {},
   "outputs": [
    {
     "data": {
      "text/plain": [
       "4"
      ]
     },
     "execution_count": 9,
     "metadata": {},
     "output_type": "execute_result"
    }
   ],
   "source": [
    "len(rate_maps)"
   ]
  }
 ],
 "metadata": {
  "kernelspec": {
   "display_name": "env_37",
   "language": "python",
   "name": "env_37"
  },
  "language_info": {
   "codemirror_mode": {
    "name": "ipython",
    "version": 3
   },
   "file_extension": ".py",
   "mimetype": "text/x-python",
   "name": "python",
   "nbconvert_exporter": "python",
   "pygments_lexer": "ipython3",
   "version": "3.7.16"
  }
 },
 "nbformat": 4,
 "nbformat_minor": 5
}
