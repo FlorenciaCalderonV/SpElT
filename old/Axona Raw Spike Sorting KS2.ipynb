{
 "cells": [
  {
   "cell_type": "markdown",
   "id": "ea0194e7",
   "metadata": {},
   "source": [
    "# SpikeInterface Processing Pipeline for Tetrodes & Neuronexus Probe\n",
    "### Jake Swann, 2023\n",
    "\n",
    "##### This is a notebook which takes a spreadsheet as input with information on raw Axona recordings, and sorts all unsorted recordings in a loop. It will concatenate all recordings made on each unique day, and sort them all together, to be split apart afterwards\n",
    "##### Each path in the spreadsheet should be to a folder containing raw Axona recordings (1 .set and 1 .bin file per recording)\n",
    "##### Required spreadsheet columns are: `trial_name, path (to trial recording), probe_type ('NP2_openephys'), num_channels (384), include ('Y')`\n",
    "##### The script loads them as a [SpikeInterface](https://github.com/SpikeInterface) object & attaches probe geometry, spike sorts using [Kilosort 2](https://github.com/MouseLand/Kilosort), and allows curation of the output in the [phy](https://github.com/cortex-lab/phy/) template-gui\n",
    "##### **N.B.** This requires a Python 3.8 environment with various dependencies installed, including SpikeInterface version 0.100+, and phy\n",
    "---"
   ]
  },
  {
   "cell_type": "markdown",
   "id": "0df8c73c",
   "metadata": {},
   "source": [
    "#### Run axona_spikeinterface script on all recordings marked on a spreadsheet"
   ]
  },
  {
   "cell_type": "code",
   "execution_count": null,
   "id": "4e019997",
   "metadata": {
    "scrolled": true
   },
   "outputs": [],
   "source": [
    "import pandas as pd\n",
    "import numpy as np\n",
    "from pyscan.sorting_utils.axona_preprocessing import sort_axona\n",
    "from pyscan.sorting_utils.collect_sessions import collect_sessions\n",
    "from pyscan.session_utils import gs_to_df\n",
    "\n",
    "# sheet = pd.read_excel('tetrode_data_JS.xlsx')\n",
    "# sheet = pd.read_excel('probe_data_IV.xlsx')\n",
    "sheet = gs_to_df('https://docs.google.com/spreadsheets/d/1_Xs5i-rHNTywV-WuQ8-TZliSjTxQCCqGWOD2AL_LIq0/edit#gid=0')\n",
    "path_to_data = '/home/isabella/Documents/isabella/jake/recording_data/'\n",
    "sorting_suffix = 'sorting_ks2_custom'\n",
    "probe_to_sort = '5x12_buz'\n",
    "\n",
    "# Select only the rows with 'Sort' == 'Y' and probe_type == 5x12_buz\n",
    "sheet['path'] = path_to_data + sheet['path']\n",
    "sheet_inc = sheet[sheet['Sort'] == 'Y']\n",
    "sheet_inc = sheet_inc[sheet_inc['probe_type'] == probe_to_sort]\n",
    "trial_list = sheet_inc['trial_name'].to_list()\n",
    "session_list = np.unique([f\"{i.split('_')[0]}_{i.split('_')[1]}\" for i in trial_list])    \n",
    "\n",
    "# Collect into sessions and preprocess\n",
    "recording_list = collect_sessions(session_list, trial_list, sheet_inc, probe_to_sort)"
   ]
  },
  {
   "cell_type": "code",
   "execution_count": null,
   "id": "71d1bcaa",
   "metadata": {
    "scrolled": true
   },
   "outputs": [],
   "source": [
    "#Restart kernel so ipython can find the newly written files\n",
    "from IPython.core.display import HTML\n",
    "HTML(\"<script>Jupyter.notebook.kernel.restart()</script>\")\n",
    "import spikeinterface as si\n",
    "\n",
    "# Concatenate over a single session and sort\n",
    "for i, recording in enumerate(recording_list):\n",
    "    recordings_concat = []\n",
    "    session = pd.DataFrame(recording)\n",
    "    recordings_concat.append(si.concatenate_recordings(session.iloc[:,0]))\n",
    "    for j, concat in enumerate(recordings_concat):\n",
    "        print(f'Sorting {concat}')\n",
    "        sorting = sort_axona(recording = concat, \n",
    "             recording_name = session.iloc[0,1], \n",
    "             base_folder = session.iloc[0,2],\n",
    "             electrode_type = session.iloc[0,3],\n",
    "             sorting_suffix = sorting_suffix)\n",
    "    session.to_csv(f'{session.iloc[0,2]}/{session.iloc[0,1][:6]}_{sorting_suffix}/session.csv') #save session trial info to .csv\n"
   ]
  },
  {
   "cell_type": "markdown",
   "id": "d9202a01",
   "metadata": {
    "jp-MarkdownHeadingCollapsed": true,
    "tags": []
   },
   "source": [
    "##### Misc utils"
   ]
  },
  {
   "cell_type": "code",
   "execution_count": null,
   "id": "081edae7",
   "metadata": {},
   "outputs": [],
   "source": [
    "## Run phy on klusta output\n",
    "# from phy.apps.kwik import kwik_gui\n",
    "# os.environ[\"QTWEBENGINE_CHROMIUM_FLAGS\"] = \"--single-process\"\n",
    "\n",
    "# ## If tetrodes sorted separately, change channel_group to choose tetrode to display \n",
    "# kwik_gui(f'{base_folder}/{session_list[0]}_{sorting_suffix}/recording.kwik', channel_group=15, clustering=None)\n",
    "\n",
    "# from phy.apps.template import template_gui\n",
    "# template_gui(f'{base_folder}/{session_list[0]}_{sorting_suffix}/params.py')\n",
    "\n",
    "# import spikeinterface.sorters as ss\n",
    "# # ss.available_sorters()\n",
    "# #ss.installed_sorters()\n",
    "# ss.get_default_sorter_params('kilosort3')\n",
    "# # ss.get_sorter_params_description('kilosort2')\n",
    "# rmdir directory_name"
   ]
  }
 ],
 "metadata": {
  "kernelspec": {
   "display_name": "env_38",
   "language": "python",
   "name": "python3"
  },
  "language_info": {
   "codemirror_mode": {
    "name": "ipython",
    "version": 3
   },
   "file_extension": ".py",
   "mimetype": "text/x-python",
   "name": "python",
   "nbconvert_exporter": "python",
   "pygments_lexer": "ipython3",
   "version": "3.8.18"
  }
 },
 "nbformat": 4,
 "nbformat_minor": 5
}
