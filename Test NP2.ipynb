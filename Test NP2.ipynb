{
 "cells": [
  {
   "cell_type": "code",
   "execution_count": 1,
   "metadata": {},
   "outputs": [
    {
     "name": "stdout",
     "output_type": "stream",
     "text": [
      "No trial list specified, loading TTL data for all trials\n",
      "Loading TTL data for 240320_r1503_sleep-ml_1\n",
      "Loading TTL data for 240320_r1503_open-field-ml_2\n",
      "Loading TTL data for 240320_r1503_open-field-sl_3\n"
     ]
    },
    {
     "data": {
      "text/plain": [
       "[array([], dtype=float64),\n",
       " array([  9.951     ,  13.6947    ,  13.7347    , ..., 745.6128    ,\n",
       "        745.65283333, 745.69283333]),\n",
       " array([  8.28493333,  12.2675    ,  12.30753333, ..., 284.6963    ,\n",
       "        284.73633333, 284.7763    ])]"
      ]
     },
     "execution_count": 1,
     "metadata": {},
     "output_type": "execute_result"
    }
   ],
   "source": [
    "from pyscan.ephys import ephys\n",
    "\n",
    "path = '/home/isabella/Documents/isabella/jake/recording_data/r1503/2024-03-20'\n",
    "sheet_url = 'https://docs.google.com/spreadsheets/d/1cZxgOw7worcVZq8wIPslmU2jD__xm1MXnNgbs1-9ros/edit#gid=0'\n",
    "\n",
    "obj = ephys('NP2_openephys', path, sheet_url)\n",
    "obj.load_ttl()\n",
    "obj.sync_data"
   ]
  },
  {
   "cell_type": "code",
   "execution_count": 14,
   "metadata": {},
   "outputs": [
    {
     "data": {
      "text/plain": [
       "array([  3.3688    ,   3.36883333,   3.36886667, ..., 288.00403333,\n",
       "       288.00406667, 288.0041    ])"
      ]
     },
     "execution_count": 14,
     "metadata": {},
     "output_type": "execute_result"
    }
   ],
   "source": [
    "import numpy as np\n",
    "obj.sync_data[2]"
   ]
  },
  {
   "cell_type": "code",
   "execution_count": 19,
   "metadata": {},
   "outputs": [
    {
     "data": {
      "text/plain": [
       "array(['Messages', 'Neuropixels PXI Sync'], dtype='<U64')"
      ]
     },
     "execution_count": 19,
     "metadata": {},
     "output_type": "execute_result"
    }
   ],
   "source": [
    "ttl_data.channel_ids"
   ]
  }
 ],
 "metadata": {
  "kernelspec": {
   "display_name": "env_38",
   "language": "python",
   "name": "python3"
  },
  "language_info": {
   "codemirror_mode": {
    "name": "ipython",
    "version": 3
   },
   "file_extension": ".py",
   "mimetype": "text/x-python",
   "name": "python",
   "nbconvert_exporter": "python",
   "pygments_lexer": "ipython3",
   "version": "3.8.18"
  }
 },
 "nbformat": 4,
 "nbformat_minor": 2
}
